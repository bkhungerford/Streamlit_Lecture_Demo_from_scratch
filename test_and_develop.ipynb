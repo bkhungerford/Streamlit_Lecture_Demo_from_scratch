{
 "cells": [
  {
   "cell_type": "code",
   "execution_count": 12,
   "id": "ce48a7a2-3298-4406-bd25-9c334e8579a1",
   "metadata": {},
   "outputs": [
    {
     "name": "stdout",
     "output_type": "stream",
     "text": [
      "{'data': {'ml': {'test': 'Data/test.joblib', 'train': 'Data/train.joblib'},\n",
      "          'nlp': {'nlp_full': 'Data/nlp/nlp_full.csv'},\n",
      "          'raw': {'full': 'Data/loan_approval.csv'}},\n",
      " 'images': {'banner': 'Images/money_tree.jpg'},\n",
      " 'models': {'logistic_regression': 'models/logreg_pipe.joblib',\n",
      "            'random_forest': 'models/rf_pipe.joblib'}}\n"
     ]
    }
   ],
   "source": [
    "# Creating a filepath\n",
    "from pprint import pprint\n",
    "\n",
    "FPATHS = dict(\n",
    "    data={\n",
    "        \"raw\": {\n",
    "            \"full\": \"Data/loan_approval.csv\"\n",
    "        },\n",
    "        \"ml\": {\n",
    "            \"train\": \"Data/train.joblib\",  \n",
    "            \"test\": \"Data/test.joblib\", \n",
    "        },\n",
    "        \"nlp\": {\n",
    "            \"nlp_full\": \"Data/nlp/nlp_full.csv\"} \n",
    "            \n",
    "    },\n",
    "    models={\n",
    "        \"logistic_regression\": \"models/logreg_pipe.joblib\", \n",
    "        \"random_forest\": \"models/rf_pipe.joblib\", \n",
    "    },\n",
    "    images={\n",
    "        \"banner\": \"Images/money_tree.jpg\", \n",
    "    },\n",
    ")\n",
    "pprint(FPATHS)"
   ]
  },
  {
   "cell_type": "code",
   "execution_count": 13,
   "id": "7578bf93-e9ab-438d-b139-67e4596a29f4",
   "metadata": {},
   "outputs": [],
   "source": [
    "# save this file path in config folder to use it for deployment\n",
    "\n",
    "import os, json\n",
    "# Programmatically make the config folder\n",
    "os.makedirs('config/', exist_ok=True)\n",
    "\n",
    "# Name the .json file within the config folder\n",
    "FPATHS_FILE = 'config/filepaths.json'\n",
    "\n",
    "# Write the FPATHS dictionary from above to the .json file\n",
    "with open(FPATHS_FILE, 'w') as f:\n",
    "    json.dump(FPATHS, f)"
   ]
  },
  {
   "cell_type": "code",
   "execution_count": 14,
   "id": "f49e9415-f22c-49d3-9a3f-2b3ad3d3d5f0",
   "metadata": {},
   "outputs": [],
   "source": [
    "# Now open the json file\n",
    "with open('config/filepaths.json', 'r') as f:\n",
    "    path = json.load(f)"
   ]
  },
  {
   "cell_type": "code",
   "execution_count": 4,
   "id": "2dfc7557-f4b9-42a0-88b2-f4d1e32ca640",
   "metadata": {},
   "outputs": [
    {
     "data": {
      "text/plain": [
       "dict_keys(['data', 'models', 'images'])"
      ]
     },
     "execution_count": 4,
     "metadata": {},
     "output_type": "execute_result"
    }
   ],
   "source": [
    "# Inspect the keys\n",
    "path.keys()"
   ]
  },
  {
   "cell_type": "markdown",
   "id": "8eeeaa64-2103-4880-b4a2-54204881ae97",
   "metadata": {},
   "source": [
    "We need to create the folders (and subfolders) designated by our file path.\n",
    "We can either:\n",
    "- a) manually create the folders we will need\n",
    "\n",
    "- b) programmatically create the folders (use provided function from LP)"
   ]
  },
  {
   "cell_type": "code",
   "execution_count": 6,
   "id": "9c53f517-b7b4-4122-b68a-938853be9940",
   "metadata": {},
   "outputs": [
    {
     "name": "stdout",
     "output_type": "stream",
     "text": [
      "Directory created: Data\n",
      "Directory created: data/nlp\n",
      "Directory created: models\n",
      "Directory created: Images\n"
     ]
    }
   ],
   "source": [
    "import os\n",
    "def create_directories_from_paths(nested_dict):\n",
    "    \"\"\"OpenAI. (2023). ChatGPT [Large language model]. https://chat.openai.com \n",
    "    Recursively create directories for file paths in a nested dictionary.\n",
    "    Parameters:\n",
    "    nested_dict (dict): The nested dictionary containing file paths.\n",
    "    \"\"\"\n",
    "    for key, value in nested_dict.items():\n",
    "        if isinstance(value, dict):\n",
    "            # If the value is a dictionary, recurse into it\n",
    "            create_directories_from_paths(value)\n",
    "        elif isinstance(value, str):\n",
    "            # If the value is a string, treat it as a file path and get the directory path\n",
    "            directory_path = os.path.dirname(value)\n",
    "            # If the directory path is not empty and the directory does not exist, create it\n",
    "            if directory_path and not os.path.exists(directory_path):\n",
    "                os.makedirs(directory_path)\n",
    "                print(f\"Directory created: {directory_path}\")\n",
    "\n",
    "# Use the function on your FPATHS dictionary\n",
    "create_directories_from_paths(FPATHS)"
   ]
  },
  {
   "cell_type": "markdown",
   "id": "1861d7c0-0659-4b8c-bc70-d27db3dd4aaf",
   "metadata": {},
   "source": [
    "Now we have all the folders, we will need to save all of the files in the appropriate folder.\n"
   ]
  },
  {
   "cell_type": "code",
   "execution_count": null,
   "id": "427a4f9c-730b-456f-934f-51c90d931b5c",
   "metadata": {},
   "outputs": [],
   "source": []
  },
  {
   "cell_type": "code",
   "execution_count": null,
   "id": "cda555b1-c1c1-4fae-b187-a025e94db5d7",
   "metadata": {},
   "outputs": [],
   "source": []
  }
 ],
 "metadata": {
  "kernelspec": {
   "display_name": "Python 3 (ipykernel)",
   "language": "python",
   "name": "python3"
  },
  "language_info": {
   "codemirror_mode": {
    "name": "ipython",
    "version": 3
   },
   "file_extension": ".py",
   "mimetype": "text/x-python",
   "name": "python",
   "nbconvert_exporter": "python",
   "pygments_lexer": "ipython3",
   "version": "3.10.10"
  },
  "widgets": {
   "application/vnd.jupyter.widget-state+json": {
    "state": {},
    "version_major": 2,
    "version_minor": 0
   }
  }
 },
 "nbformat": 4,
 "nbformat_minor": 5
}
